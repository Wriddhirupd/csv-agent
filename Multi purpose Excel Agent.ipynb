{
 "cells": [
  {
   "cell_type": "code",
   "execution_count": null,
   "id": "96bfec28-b2b9-441a-a09b-d1b1aa25f7a2",
   "metadata": {},
   "outputs": [],
   "source": [
    "!pip install crewai_tools"
   ]
  },
  {
   "cell_type": "code",
   "execution_count": 3,
   "id": "bde3c1c7-9bfe-4b4f-8ca0-347c11452584",
   "metadata": {},
   "outputs": [
    {
     "ename": "ModuleNotFoundError",
     "evalue": "No module named 'crewai_tools'",
     "output_type": "error",
     "traceback": [
      "\u001b[31m---------------------------------------------------------------------------\u001b[39m",
      "\u001b[31mModuleNotFoundError\u001b[39m                       Traceback (most recent call last)",
      "\u001b[36mCell\u001b[39m\u001b[36m \u001b[39m\u001b[32mIn[3]\u001b[39m\u001b[32m, line 8\u001b[39m\n\u001b[32m      6\u001b[39m \u001b[38;5;28;01mfrom\u001b[39;00m \u001b[34;01mIPython\u001b[39;00m\u001b[34;01m.\u001b[39;00m\u001b[34;01mdisplay\u001b[39;00m \u001b[38;5;28;01mimport\u001b[39;00m display, clear_output\n\u001b[32m      7\u001b[39m \u001b[38;5;28;01mfrom\u001b[39;00m \u001b[34;01mcrewai\u001b[39;00m \u001b[38;5;28;01mimport\u001b[39;00m Agent, Task, Crew, LLM\n\u001b[32m----> \u001b[39m\u001b[32m8\u001b[39m \u001b[38;5;28;01mfrom\u001b[39;00m \u001b[34;01mcrewai_tools\u001b[39;00m \u001b[38;5;28;01mimport\u001b[39;00m FileReadTool\n\u001b[32m      9\u001b[39m \u001b[38;5;28;01mfrom\u001b[39;00m \u001b[34;01mtextwrap\u001b[39;00m \u001b[38;5;28;01mimport\u001b[39;00m dedent\n\u001b[32m     10\u001b[39m \u001b[38;5;28;01mimport\u001b[39;00m \u001b[34;01mre\u001b[39;00m\n",
      "\u001b[31mModuleNotFoundError\u001b[39m: No module named 'crewai_tools'"
     ]
    }
   ],
   "source": [
    "import os\n",
    "import pandas as pd\n",
    "import matplotlib.pyplot as plt\n",
    "import seaborn as sns\n",
    "import ipywidgets as widgets\n",
    "from IPython.display import display, clear_output\n",
    "from crewai import Agent, Task, Crew, LLM\n",
    "from crewai_tools import FileReadTool\n",
    "from textwrap import dedent\n",
    "import re"
   ]
  },
  {
   "cell_type": "code",
   "execution_count": null,
   "id": "3b0d3c47-300d-432c-a8e9-3bea775a7e51",
   "metadata": {},
   "outputs": [],
   "source": [
    "### LLM Parameters\n",
    "\n",
    "LLM_NAME = \"ollama/llama3.1\"\n",
    "BASE_URL=\"http://localhost:11434\"\n",
    "TEMPERATURE=0"
   ]
  },
  {
   "cell_type": "code",
   "execution_count": null,
   "id": "98ffe674-09cd-4d5d-a8a0-68c45e13542c",
   "metadata": {},
   "outputs": [],
   "source": [
    "### Define LLM\n",
    "\n",
    "llm = LLM(\n",
    "    model=LLM_NAME, \n",
    "    base_url=BASE_URL, \n",
    "    temperature=TEMPERATURE\n",
    "    ) "
   ]
  },
  {
   "cell_type": "code",
   "execution_count": null,
   "id": "45d2ba6d-5b2d-42ce-a8ca-35e5fd771752",
   "metadata": {},
   "outputs": [],
   "source": [
    "def reader_agent(file_path) -> Agent:\n",
    "    \"\"\"\n",
    "    Create a reader agent for reading CSV files.\n",
    "    \"\"\"\n",
    "    return Agent(\n",
    "        role=\"CSV Reader\",\n",
    "        goal=\"Read and summarize the CSV structure\",\n",
    "        backstory=(\"An expert in understanding datasets and identifying their purpose, \"\n",
    "            \"You have a deep understanding of data science and Machine learning and data analysis\"),\n",
    "        verbose=True,\n",
    "        tools=[FileReadTool(file_path=file_path)],\n",
    "        llm=llm\n",
    "    )\n",
    "\n",
    "def read_csv_task(file_path):\n",
    "    return Task(\n",
    "    description=dedent(f\"\"\"\n",
    "        Load the CSV file '{file_path}'.\n",
    "        Summarize it: number of rows, columns, column names, and types. Read the column names correctly from the CSV file.\n",
    "    \"\"\"),\n",
    "    expected_output=\"A short summary of the dataset's structure, including column names and data types.\",\n",
    "    agent=reader_agent(file_path=file_path),\n",
    ")"
   ]
  },
  {
   "cell_type": "code",
   "execution_count": null,
   "id": "edd7afaf-7dbf-4828-a647-6f1b5c42165b",
   "metadata": {},
   "outputs": [],
   "source": [
    "def analyst_agent(self) -> Agent:\n",
    "    \"\"\"\n",
    "    Create an analyst agent for analyzing CSV files.\n",
    "    \"\"\"\n",
    "    return Agent(\n",
    "        role=\"Data Analyst\",\n",
    "        goal=\"Extract insights from the dataset and suggest visualizations.\",\n",
    "        backstory=\"You specialize in statistics and pattern recognition.\",\n",
    "        verbose=True,\n",
    "        llm=llm,\n",
    "        allow_delegation=True,\n",
    "    )\n",
    "\n",
    "def analyze_csv_task(file_path):\n",
    "    return Task(\n",
    "        description=dedent(f\"\"\"\n",
    "            Analyze the dataset loaded from '{file_path}'.\n",
    "            \n",
    "            You already have a summary of the file structure from the CSV Reader agent.\n",
    "\n",
    "            Based on the actual data:\n",
    "            - Provide descriptive statistics for all numeric columns.\n",
    "            - Point out correlations or patterns you notice.\n",
    "            - Suggest 3-5 chart types that would be **most useful to visualize this specific dataset**.\n",
    "            Use the actual column names in your suggestions.\n",
    "            Examples: \"Scatter plot of Age vs. Income\", \"Bar chart of Gender distribution\"\n",
    "\n",
    "            Format your output in markdown.\n",
    "        \"\"\"),\n",
    "        expected_output=dedent(\"\"\"\n",
    "            1. Statistical summary of numeric columns\n",
    "            2. Observed trends or correlations\n",
    "            3. List of recommended visualizations using real column names (e.g., 'Scatter plot of Salary vs. Experience')\n",
    "        \"\"\"),\n",
    "        context=[read_csv_task(file_path)],\n",
    "        agent=analyst_agent(),\n",
    "    )"
   ]
  },
  {
   "cell_type": "code",
   "execution_count": null,
   "id": "df6f83ee-e958-4caa-879e-019ec7b7f61e",
   "metadata": {},
   "outputs": [],
   "source": [
    "def visualization_agent() -> Agent:\n",
    "    \"\"\"\n",
    "    Create a visualization agent for visualizing CSV files.\n",
    "    \"\"\"\n",
    "    return Agent(\n",
    "        role=\"Data Visualization Expert\",\n",
    "        goal=(\n",
    "            \"Generate meaningful visualizations such as histograms, scatter plots, line plots, bar charts, \"\n",
    "            \"and heatmaps to provide insights into the data.\"\n",
    "        ),        \n",
    "        backstory=\"You use matplotlib/seaborn to create graphs.\",\n",
    "        verbose=True,\n",
    "        llm=llm\n",
    "    )\n",
    "\n",
    "def visualize_csv_task(file_path):\n",
    "    return Task(\n",
    "        description=dedent(f\"\"\"\n",
    "            Based on the analysis, write Python code using matplotlib/seaborn to create plots for the file {file_path} based on the human input by analyst_agent:\n",
    "            - The output must be inside a ```python ... ``` block.\n",
    "            - Show the plots only for the columns mentioned in {file_path}.\n",
    "            - Include `plt.show()` to render the plots\n",
    "        \"\"\"),\n",
    "        expected_output=\"Python code wrapped in triple backticks for visualization\",\n",
    "        context=[analyze_csv_task(file_path)],\n",
    "        agent=visualization_agent(),\n",
    "    )"
   ]
  },
  {
   "cell_type": "code",
   "execution_count": null,
   "id": "0942f5d9-c572-4316-af02-248564c2aa10",
   "metadata": {},
   "outputs": [],
   "source": [
    "csv_file = \"C:\\\\Users\\\\Wriddhirup Dutta\\\\coding\\\\excel-agent\\\\app\\\\notebooks\\\\data.csv\""
   ]
  },
  {
   "cell_type": "code",
   "execution_count": null,
   "id": "1f13e8db-f1ac-4716-aca4-290244c68499",
   "metadata": {},
   "outputs": [],
   "source": [
    "read_crew = Crew(\n",
    "    name=\"Reader Agent\",\n",
    "    description=\"A crew of agents specialized in reading CSV files.\",\n",
    "    agents=[reader_agent(csv_file)],\n",
    "    tasks=[read_csv_task(csv_file)]\n",
    ")"
   ]
  },
  {
   "cell_type": "code",
   "execution_count": null,
   "id": "0ed5fb85-e6dd-4647-83e5-219b59ad8e42",
   "metadata": {},
   "outputs": [],
   "source": []
  }
 ],
 "metadata": {
  "kernelspec": {
   "display_name": "Python 3 (ipykernel)",
   "language": "python",
   "name": "python3"
  },
  "language_info": {
   "codemirror_mode": {
    "name": "ipython",
    "version": 3
   },
   "file_extension": ".py",
   "mimetype": "text/x-python",
   "name": "python",
   "nbconvert_exporter": "python",
   "pygments_lexer": "ipython3",
   "version": "3.12.9"
  }
 },
 "nbformat": 4,
 "nbformat_minor": 5
}
